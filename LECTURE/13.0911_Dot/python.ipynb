{
 "cells": [
  {
   "cell_type": "markdown",
   "metadata": {},
   "source": [
    "1. 객체 지향 프로그래밍 (OOP)\n",
    "\n",
    "- 개념: 코드를 여러 개의 객체로 나누어 설계하는 프로그래밍 패러다임. 객체는 상태(속성)와 행동(메서드)을 가진다."
   ]
  },
  {
   "cell_type": "code",
   "execution_count": 1,
   "metadata": {},
   "outputs": [
    {
     "name": "stdout",
     "output_type": "stream",
     "text": [
      "Woof!\n"
     ]
    }
   ],
   "source": [
    "class Dog:\n",
    "    def __init__(self, name, age):\n",
    "        self.name = name\n",
    "        self.age = age\n",
    "    \n",
    "    def bark(self):\n",
    "        return \"Woof!\"\n",
    "\n",
    "buddy = Dog(\"Buddy\", 3)\n",
    "print(buddy.bark())  # Output: Woof!\n"
   ]
  },
  {
   "cell_type": "code",
   "execution_count": 2,
   "metadata": {},
   "outputs": [],
   "source": [
    "class Human:\n",
    "    def __init__(self, name, hp, power, speed):\n",
    "        self.name = name\n",
    "        self.hp = hp\n",
    "        self.power = power\n",
    "        self.speed = speed\n",
    "        self.position = 0\n",
    "        \n",
    "    def move_left(self):\n",
    "        self.position -= self.speed\n",
    "    def move_right(self):\n",
    "        self.position += self.speed\n",
    "    def jump(self):\n",
    "        print(f\"{self.name}는 점프했습니다.\")\n",
    "        print(f\"{self.name}는 제자리로 돌아왔습니다.\")\n",
    "    def attack(self, target):\n",
    "        target.hp -= self.power\n",
    "        print(f\"{self.name}가 {target.name}을 공격했습니다.\")\n",
    "        print(f\"{target.name}의 체력이 {target.hp}가 되었습니다.\")\n",
    "        \n",
    "class Archer(Human):\n",
    "    def __init__(self, name, hp, power, speed):\n",
    "        super().__init__(name, hp-10, power-10, speed*2)\n",
    "    def rapid_fire(self, target):\n",
    "        for _ in range(10):\n",
    "            self.attack(target)\n",
    "            print(f\"{self.name}가 빠른 공격을 했습니다\")\n"
   ]
  },
  {
   "cell_type": "code",
   "execution_count": 3,
   "metadata": {},
   "outputs": [
    {
     "name": "stdout",
     "output_type": "stream",
     "text": [
      "궁수는 점프했습니다.\n",
      "궁수는 제자리로 돌아왔습니다.\n"
     ]
    }
   ],
   "source": [
    "archer = Archer(\"궁수\", hp=100, power=50, speed=30)\n",
    "archer.move_left()\n",
    "archer.move_right()\n",
    "archer.jump()   "
   ]
  },
  {
   "cell_type": "code",
   "execution_count": null,
   "metadata": {},
   "outputs": [],
   "source": [
    "class Warrior(Human):\n",
    "    def __init__(self, name, hp, power, speed):\n",
    "        "
   ]
  },
  {
   "cell_type": "code",
   "execution_count": null,
   "metadata": {},
   "outputs": [],
   "source": []
  },
  {
   "cell_type": "markdown",
   "metadata": {},
   "source": [
    "2. 람다 함수, 맵 함수, 리스트 컴프리헨션\n",
    "\n",
    "- 개념: 파이썬에서 제공하는 간결한 함수 작성 방법 및 리스트 처리 방식."
   ]
  },
  {
   "cell_type": "code",
   "execution_count": 9,
   "metadata": {},
   "outputs": [
    {
     "data": {
      "text/plain": [
       "25"
      ]
     },
     "execution_count": 9,
     "metadata": {},
     "output_type": "execute_result"
    }
   ],
   "source": [
    "square = lambda x: x**2\n",
    "square(5)"
   ]
  },
  {
   "cell_type": "code",
   "execution_count": 12,
   "metadata": {},
   "outputs": [
    {
     "name": "stdout",
     "output_type": "stream",
     "text": [
      "[1, 4, 9, 16, 25]\n"
     ]
    }
   ],
   "source": [
    "nums = [1, 2, 3, 4, 5]\n",
    "ss = list(map(lambda x: x**2, nums))\n",
    "print(ss)"
   ]
  },
  {
   "cell_type": "code",
   "execution_count": 16,
   "metadata": {},
   "outputs": [
    {
     "data": {
      "text/plain": [
       "-2232100980"
      ]
     },
     "execution_count": 16,
     "metadata": {},
     "output_type": "execute_result"
    }
   ],
   "source": [
    "x = [x for x in nums if x%2==0]\n",
    "x"
   ]
  },
  {
   "cell_type": "markdown",
   "metadata": {},
   "source": [
    "3. 파이썬을 활용한 데이터 분석 (pandas, numpy)\n",
    "\n",
    "- 개념: pandas는 데이터 분석을 위한 고수준 라이브러리이며, numpy는 수치 연산을 위한 기본 패키지입니다."
   ]
  },
  {
   "cell_type": "code",
   "execution_count": 5,
   "metadata": {},
   "outputs": [
    {
     "name": "stdout",
     "output_type": "stream",
     "text": [
      "   Name  Age      City\n",
      "0  John   28  New York\n",
      "1  Anna   22    London\n",
      "2   Tom   25     Paris\n"
     ]
    }
   ],
   "source": [
    "import pandas as pd\n",
    "import numpy as np \n",
    "\n",
    "data = {'Name': ['John', 'Anna', 'Tom'],\n",
    "        'Age': [28, 22, 25],\n",
    "        'City': ['New York', 'London', 'Paris']}\n",
    "\n",
    "\n",
    "df = pd.DataFrame(data, columns = ['Name', 'Age', 'City'])\n",
    "\n",
    "print(df)"
   ]
  },
  {
   "cell_type": "code",
   "execution_count": 6,
   "metadata": {},
   "outputs": [
    {
     "name": "stdout",
     "output_type": "stream",
     "text": [
      "<class 'pandas.core.frame.DataFrame'>\n",
      "RangeIndex: 3 entries, 0 to 2\n",
      "Data columns (total 3 columns):\n",
      " #   Column  Non-Null Count  Dtype \n",
      "---  ------  --------------  ----- \n",
      " 0   Name    3 non-null      object\n",
      " 1   Age     3 non-null      int64 \n",
      " 2   City    3 non-null      object\n",
      "dtypes: int64(1), object(2)\n",
      "memory usage: 200.0+ bytes\n"
     ]
    }
   ],
   "source": [
    "df.info()"
   ]
  },
  {
   "cell_type": "code",
   "execution_count": 7,
   "metadata": {},
   "outputs": [
    {
     "name": "stdout",
     "output_type": "stream",
     "text": [
      "3.0\n"
     ]
    }
   ],
   "source": [
    "array = np.array([1, 2, 3, 4, 5])\n",
    "print(array.mean())"
   ]
  },
  {
   "cell_type": "code",
   "execution_count": 8,
   "metadata": {},
   "outputs": [
    {
     "data": {
      "text/plain": [
       "3.0"
      ]
     },
     "execution_count": 8,
     "metadata": {},
     "output_type": "execute_result"
    }
   ],
   "source": [
    "sum(array)/len(array)"
   ]
  },
  {
   "cell_type": "code",
   "execution_count": 17,
   "metadata": {},
   "outputs": [
    {
     "name": "stdout",
     "output_type": "stream",
     "text": [
      "7\n",
      "5.940828402366863\n",
      "2.4373814642699783\n"
     ]
    }
   ],
   "source": [
    "def median(data):\n",
    "    sorted_array = sorted(data)\n",
    "    n = len(sorted_array)\n",
    "    mid = n//2\n",
    "\n",
    "    if n%2 == 0:\n",
    "        median = (sorted_array[mid-1]+sorted_array[mid])/2\n",
    "    else:\n",
    "        median = sorted_array[mid]\n",
    "    return median\n",
    "        \n",
    "        \n",
    "# variance\n",
    "\n",
    "def variance(data):\n",
    "    data = np.array(data)\n",
    "    avg = data.mean()\n",
    "    var = sum([(x-avg)**2 for x in data])/len(data)\n",
    "    return var\n",
    "\n",
    "# standard deviation\n",
    "\n",
    "def std(data):\n",
    "    return variance(data)**0.5\n",
    "\n",
    "data = [2,3,4,5,5,6,7,7,8,9,9,9,10]\n",
    "\n",
    "print(median(data))\n",
    "print(variance(data))\n",
    "print(std(data))"
   ]
  },
  {
   "cell_type": "code",
   "execution_count": 19,
   "metadata": {},
   "outputs": [
    {
     "name": "stdout",
     "output_type": "stream",
     "text": [
      "7.0\n",
      "5.940828402366863\n",
      "2.4373814642699783\n"
     ]
    }
   ],
   "source": [
    "df_median = np.median(data)\n",
    "df_variance = np.var(data)\n",
    "df_std = np.std(data)\n",
    "\n",
    "\n",
    "print(df_median)\n",
    "print(df_variance)\n",
    "print(df_std)"
   ]
  },
  {
   "cell_type": "markdown",
   "metadata": {},
   "source": [
    "- tkinter는 파이썬에서 GUI(Graphical User Interface) 프로그래밍을 할 때 사용하는 모듈\n",
    "\n",
    "- https://docs.python.org/ko/3/library/tkinter.html"
   ]
  },
  {
   "cell_type": "code",
   "execution_count": 4,
   "metadata": {},
   "outputs": [],
   "source": [
    "import tkinter as tk\n",
    "\n",
    "class BattleApp:\n",
    "    def __init__(self, master):\n",
    "        self.master = master\n",
    "        self.master.title(\"Archer vs Slime Battle\")\n",
    "\n",
    "        # Canvas where the animation will happen\n",
    "        self.canvas = tk.Canvas(self.master, bg=\"white\", width=400, height=300)\n",
    "        self.canvas.pack()\n",
    "\n",
    "        # Archer & Slime Image (represented as rectangles here)\n",
    "        self.archer = self.canvas.create_rectangle(50, 150, 100, 200, fill=\"blue\", tags=\"archer\")\n",
    "        self.slime = self.canvas.create_rectangle(300, 150, 350, 200, fill=\"green\", tags=\"slime\")\n",
    "\n",
    "        # Displaying names\n",
    "        self.canvas.create_text(75, 210, text=\"Archer\")\n",
    "        self.canvas.create_text(325, 210, text=\"Slime\")\n",
    "\n",
    "        # Slime's Health Bar\n",
    "        self.slime_hp_max = 100\n",
    "        self.slime_hp_current = self.slime_hp_max\n",
    "        self.slime_hp_bar = self.canvas.create_rectangle(275, 130, 375, 140, fill=\"red\", tags=\"slime_hp\")\n",
    "\n",
    "        # Attack buttons\n",
    "        self.attack_btn = tk.Button(self.master, text=\"Archer Attacks\", command=self.attack_animation)\n",
    "        self.attack_btn.pack()\n",
    "        self.slime_attack_btn = tk.Button(self.master, text=\"Slime Attacks\", command=self.slime_attack_animation)\n",
    "        self.slime_attack_btn.pack()\n",
    "\n",
    "    # Archer's attack animation\n",
    "    def attack_animation(self):\n",
    "        # Reduce slime's health\n",
    "        self.slime_hp_current -= 20\n",
    "        self.update_slime_hp()\n",
    "\n",
    "        # Attack movements\n",
    "        self.canvas.move(self.archer, 20, 0)\n",
    "        self.master.after(200, self.canvas.move, self.archer, -20, 0)\n",
    "        self.master.after(400, self.canvas.move, self.slime, -20, 0)\n",
    "        self.master.after(600, self.canvas.move, self.slime, 20, 0)\n",
    "\n",
    "    # Slime's attack animation\n",
    "    def slime_attack_animation(self):\n",
    "        self.canvas.move(self.slime, -20, 0)\n",
    "        self.master.after(200, self.canvas.move, self.slime, 20, 0)\n",
    "        self.master.after(400, self.canvas.move, self.archer, 20, 0)\n",
    "        self.master.after(600, self.canvas.move, self.archer, -20, 0)\n",
    "\n",
    "    def update_slime_hp(self):\n",
    "        if self.slime_hp_current <= 0:\n",
    "            self.canvas.itemconfig(self.slime, fill=\"gray\")  # Slime dies and turns gray\n",
    "            self.slime_hp_current = 0\n",
    "            self.attack_btn.config(state=tk.DISABLED)  # Disable the attack button\n",
    "\n",
    "        # Update the health bar length\n",
    "        hp_ratio = self.slime_hp_current / self.slime_hp_max\n",
    "        self.canvas.coords(self.slime_hp_bar, 275, 130, 275 + (hp_ratio * 100), 140)\n",
    "\n",
    "if __name__ == \"__main__\":\n",
    "    root = tk.Tk()\n",
    "    app = BattleApp(root)\n",
    "    root.mainloop()\n"
   ]
  },
  {
   "cell_type": "code",
   "execution_count": null,
   "metadata": {},
   "outputs": [],
   "source": []
  }
 ],
 "metadata": {
  "kernelspec": {
   "display_name": "Python 3",
   "language": "python",
   "name": "python3"
  },
  "language_info": {
   "codemirror_mode": {
    "name": "ipython",
    "version": 3
   },
   "file_extension": ".py",
   "mimetype": "text/x-python",
   "name": "python",
   "nbconvert_exporter": "python",
   "pygments_lexer": "ipython3",
   "version": "3.10.12"
  },
  "orig_nbformat": 4
 },
 "nbformat": 4,
 "nbformat_minor": 2
}
