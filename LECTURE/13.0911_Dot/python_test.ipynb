{
 "cells": [
  {
   "cell_type": "markdown",
   "metadata": {},
   "source": [
    "1. 객체 지향 프로그래밍 (OOP)\n",
    "\n",
    "- 개념: 코드를 여러 개의 객체로 나누어 설계하는 프로그래밍 패러다임. 객체는 상태(속성)와 행동(메서드)을 가진다."
   ]
  },
  {
   "cell_type": "code",
   "execution_count": null,
   "metadata": {},
   "outputs": [],
   "source": [
    "class Dog:\n",
    "    def __init__(self, name, age):\n",
    "        self.name = name\n",
    "        self.age = age\n",
    "    \n",
    "    def bark(self):\n",
    "        return \"Woof!\"\n",
    "\n",
    "buddy = Dog(\"Buddy\", 3)\n",
    "print(buddy.bark())  # Output: Woof!"
   ]
  },
  {
   "cell_type": "code",
   "execution_count": null,
   "metadata": {},
   "outputs": [],
   "source": [
    "Class Human:\n",
    "    def __init__(self, name, hp, pwer, speed):\n",
    "        "
   ]
  },
  {
   "cell_type": "code",
   "execution_count": null,
   "metadata": {},
   "outputs": [],
   "source": []
  },
  {
   "cell_type": "code",
   "execution_count": 1,
   "metadata": {},
   "outputs": [
    {
     "name": "stdout",
     "output_type": "stream",
     "text": [
      "인간는 왼쪽으로 이동했습니다. 현재 위치: -10\n",
      "인간는 점프했습니다!\n",
      "인간는 제자리로 돌아왔습니다. 현재 위치: -10\n",
      "궁수는 왼쪽으로 이동했습니다. 현재 위치: -20\n",
      "궁수는 점프했습니다!\n",
      "궁수는 제자리로 돌아왔습니다. 현재 위치: -20\n"
     ]
    }
   ],
   "source": [
    "class Human:\n",
    "    def __init__(self, name, hp, power, speed):\n",
    "        self.name = name\n",
    "        self.hp = hp\n",
    "        self.power = power\n",
    "        self.speed = speed\n",
    "        self.position = 0\n",
    "\n",
    "    def move_left(self):\n",
    "        self.position -= self.speed\n",
    "        print(f\"{self.name}는 왼쪽으로 이동했습니다. 현재 위치: {self.position}\")\n",
    "\n",
    "    def move_right(self):\n",
    "        self.position += self.speed\n",
    "        print(f\"{self.name}는 오른쪽으로 이동했습니다. 현재 위치: {self.position}\")\n",
    "\n",
    "    def jump(self):\n",
    "        print(f\"{self.name}는 점프했습니다!\")\n",
    "        print(f\"{self.name}는 제자리로 돌아왔습니다. 현재 위치: {self.position}\")\n",
    "\n",
    "class Archer(Human):  # 궁수 클래스는 인간 클래스를 상속받습니다.\n",
    "    def __init__(self, name, hp, power, speed):\n",
    "        # 궁수의 속도는 2배, 체력은 조금 감소\n",
    "        super().__init__(name, hp-20, power, speed*2)\n",
    "\n",
    "\n",
    "human = Human(name=\"인간\", hp=100, power=50, speed=10)\n",
    "human.move_left()\n",
    "human.jump()\n",
    "\n",
    "archer = Archer(name=\"궁수\", hp=100, power=50, speed=10)\n",
    "archer.move_left()\n",
    "archer.jump()\n"
   ]
  },
  {
   "cell_type": "code",
   "execution_count": null,
   "metadata": {},
   "outputs": [],
   "source": [
    "class Human:\n",
    "    def __init__(self, name, hp, power, speed):\n",
    "        self.name = name\n",
    "        self.hp = hp\n",
    "        self.power = power\n",
    "        self.speed = speed\n",
    "        self.position = 0\n",
    "\n",
    "    def move_left(self):\n",
    "        self.position -= self.speed\n",
    "        print(f\"{self.name}는 왼쪽으로 이동했습니다. 현재 위치: {self.position}\")\n",
    "\n",
    "    def move_right(self):\n",
    "        self.position += self.speed\n",
    "        print(f\"{self.name}는 오른쪽으로 이동했습니다. 현재 위치: {self.position}\")\n",
    "\n",
    "    def jump(self):\n",
    "        print(f\"{self.name}는 점프했습니다!\")\n",
    "        print(f\"{self.name}는 제자리로 돌아왔습니다. 현재 위치: {self.position}\")\n",
    "\n",
    "    def attack(self, target):\n",
    "        target.hp -= self.power\n",
    "        print(f\"{self.name}가 {target.name}를 공격했습니다! {target.name}의 남은 HP: {target.hp}\")\n",
    "\n",
    "\n",
    "class Archer(Human):\n",
    "    def __init__(self, name, hp, power, speed):\n",
    "        super().__init__(name, hp-20, power-10, speed*2)\n",
    "\n",
    "    def rapid_fire(self, target):\n",
    "        for _ in range(3):\n",
    "            super().attack(target)\n",
    "            print(f\"{self.name}의 빠른 화살!\")\n",
    "\n",
    "class Warrior(Human):\n",
    "    def __init__(self, name, hp, power, speed):\n",
    "        super().__init__(name, hp, power+20, speed*0.5)\n",
    "\n",
    "    def strong_attack(self, target):\n",
    "        damage = self.power * 2\n",
    "        target.hp -= damage\n",
    "        print(f\"{self.name}의 강력한 일격! {target.name}에게 {damage}의 피해를 주었습니다!\")\n",
    "\n",
    "# 예시 사용\n",
    "archer = Archer(name=\"궁수\", hp=100, power=50, speed=10)\n",
    "warrior = Warrior(name=\"전사\", hp=150, power=60, speed=5)\n",
    "\n",
    "archer.rapid_fire(warrior)\n",
    "warrior.strong_attack(archer)\n"
   ]
  },
  {
   "cell_type": "markdown",
   "metadata": {},
   "source": []
  },
  {
   "cell_type": "markdown",
   "metadata": {},
   "source": [
    "2. 람다 함수, 맵 함수, 리스트 컴프리헨션\n",
    "\n",
    "- 개념: 파이썬에서 제공하는 간결한 함수 작성 방법 및 리스트 처리 방식."
   ]
  },
  {
   "cell_type": "code",
   "execution_count": 2,
   "metadata": {},
   "outputs": [
    {
     "name": "stdout",
     "output_type": "stream",
     "text": [
      "25\n"
     ]
    }
   ],
   "source": [
    "# 람다 함수\n",
    "square = lambda x: x**2\n",
    "print(square(5))  "
   ]
  },
  {
   "cell_type": "code",
   "execution_count": 3,
   "metadata": {},
   "outputs": [
    {
     "name": "stdout",
     "output_type": "stream",
     "text": [
      "[1, 4, 9, 16]\n"
     ]
    }
   ],
   "source": [
    "# 맵 함수\n",
    "nums = [1, 2, 3, 4]\n",
    "squared_nums = list(map(lambda x: x**2, nums))\n",
    "print(squared_nums)  "
   ]
  },
  {
   "cell_type": "code",
   "execution_count": 4,
   "metadata": {},
   "outputs": [
    {
     "name": "stdout",
     "output_type": "stream",
     "text": [
      "[2, 4]\n"
     ]
    }
   ],
   "source": [
    "# 리스트 컴프리헨션\n",
    "even_nums = [x for x in nums if x%2 == 0]\n",
    "print(even_nums)  "
   ]
  },
  {
   "cell_type": "markdown",
   "metadata": {},
   "source": [
    "3. 파이썬을 활용한 데이터 분석 (pandas, numpy)\n",
    "\n",
    "- 개념: pandas는 데이터 분석을 위한 고수준 라이브러리이며, numpy는 수치 연산을 위한 기본 패키지입니다."
   ]
  },
  {
   "cell_type": "code",
   "execution_count": 6,
   "metadata": {},
   "outputs": [
    {
     "name": "stdout",
     "output_type": "stream",
     "text": [
      "   Name  Age      City\n",
      "0  John   28  New York\n",
      "1  Anna   22    London\n",
      "2   Tom   25     Paris\n",
      "3.0\n"
     ]
    }
   ],
   "source": [
    "import pandas as pd\n",
    "import numpy as np\n",
    "\n",
    "data = {'Name': ['John', 'Anna', 'Tom'],\n",
    "        'Age': [28, 22, 25],\n",
    "        'City': ['New York', 'London', 'Paris']}\n",
    "\n",
    "df = pd.DataFrame(data)\n",
    "\n",
    "print(df)\n",
    "\n",
    "array = np.array([1, 2, 3, 4, 5])\n",
    "print(array.mean())  \n"
   ]
  },
  {
   "cell_type": "code",
   "execution_count": 7,
   "metadata": {},
   "outputs": [
    {
     "name": "stdout",
     "output_type": "stream",
     "text": [
      "평균: 5.0\n",
      "중앙값: 4.5\n",
      "분산: 4.0\n",
      "표준편차: 2.0\n"
     ]
    }
   ],
   "source": [
    "def mean(data):\n",
    "    \"\"\"평균 계산\"\"\"\n",
    "    return sum(data) / len(data)\n",
    "\n",
    "def median(data):\n",
    "    \"\"\"중앙값 계산\"\"\"\n",
    "    sorted_data = sorted(data)\n",
    "    n = len(sorted_data)\n",
    "    mid = n // 2\n",
    "    if n % 2 == 0:  \n",
    "        return (sorted_data[mid - 1] + sorted_data[mid]) / 2\n",
    "    else:  \n",
    "        return sorted_data[mid]\n",
    "\n",
    "def variance(data):\n",
    "    \"\"\"분산 계산\"\"\"\n",
    "    avg = mean(data)\n",
    "    var = sum([(x - avg) ** 2 for x in data]) / len(data)\n",
    "    return var\n",
    "\n",
    "def standard_deviation(data):\n",
    "    \"\"\"표준편차 계산\"\"\"\n",
    "    return variance(data) ** 0.5\n",
    "\n",
    "data = [2, 4, 4, 4, 5, 5, 7, 9]\n",
    "\n",
    "print(\"평균:\", mean(data))\n",
    "print(\"중앙값:\", median(data))\n",
    "print(\"분산:\", variance(data))\n",
    "print(\"표준편차:\", standard_deviation(data))\n"
   ]
  },
  {
   "cell_type": "code",
   "execution_count": 9,
   "metadata": {},
   "outputs": [
    {
     "name": "stdout",
     "output_type": "stream",
     "text": [
      "평균: 5.0\n",
      "중앙값: 4.5\n",
      "분산: 4.0\n",
      "표준편차: 2.0\n"
     ]
    }
   ],
   "source": [
    "# numpy\n",
    "df_mean = np.mean(data)\n",
    "df_median = np.median(data)\n",
    "df_variance = np.var(data)\n",
    "df_standard_deviation = np.std(data)\n",
    "\n",
    "print(\"평균:\", df_mean)\n",
    "print(\"중앙값:\", df_median)\n",
    "print(\"분산:\", df_variance)\n",
    "print(\"표준편차:\", df_standard_deviation)\n",
    "\n"
   ]
  },
  {
   "cell_type": "code",
   "execution_count": null,
   "metadata": {},
   "outputs": [],
   "source": []
  },
  {
   "cell_type": "code",
   "execution_count": null,
   "metadata": {},
   "outputs": [],
   "source": []
  },
  {
   "cell_type": "code",
   "execution_count": 10,
   "metadata": {},
   "outputs": [
    {
     "name": "stdout",
     "output_type": "stream",
     "text": [
      "아처 - 체력: 80, 공격력: 40\n",
      "슬라임 - 체력: 50, 공격력: 10\n",
      "아처의 빠른 화살!\n",
      "아처이(가) 슬라임에게 40의 피해를 주었습니다!\n",
      "슬라임의 남은 체력: 10\n",
      "아처이(가) 슬라임에게 40의 피해를 주었습니다!\n",
      "슬라임이(가) 쓰러졌습니다!\n",
      "아처이(가) 슬라임에게 40의 피해를 주었습니다!\n",
      "슬라임이(가) 쓰러졌습니다!\n"
     ]
    }
   ],
   "source": [
    "class Character:\n",
    "    def __init__(self, name, hp, power):\n",
    "        self.name = name\n",
    "        self.hp = hp\n",
    "        self.power = power\n",
    "\n",
    "    def attack(self, target):\n",
    "        target.hp -= self.power\n",
    "        print(f\"{self.name}이(가) {target.name}에게 {self.power}의 피해를 주었습니다!\")\n",
    "        if target.hp <= 0:\n",
    "            print(f\"{target.name}이(가) 쓰러졌습니다!\")\n",
    "        else:\n",
    "            print(f\"{target.name}의 남은 체력: {target.hp}\")\n",
    "\n",
    "    def show_status(self):\n",
    "        print(f\"{self.name} - 체력: {self.hp}, 공격력: {self.power}\")\n",
    "\n",
    "\n",
    "class Human(Character):\n",
    "    def __init__(self, name, hp=100, power=50, speed=10):\n",
    "        super().__init__(name, hp, power)\n",
    "        self.speed = speed\n",
    "\n",
    "    def move(self):\n",
    "        print(f\"{self.name}이(가) 이동합니다.\")\n",
    "\n",
    "\n",
    "class Archer(Human):\n",
    "    def __init__(self, name, hp=80, power=40, speed=15):\n",
    "        super().__init__(name, hp, power, speed)\n",
    "\n",
    "    def rapid_fire(self, target):\n",
    "        print(f\"{self.name}의 빠른 화살!\")\n",
    "        for _ in range(3):\n",
    "            self.attack(target)\n",
    "\n",
    "\n",
    "class Slime(Character):\n",
    "    def __init__(self, name, hp=50, power=10):\n",
    "        super().__init__(name, hp, power)\n",
    "\n",
    "\n",
    "# 예시 사용:\n",
    "archer = Archer(name=\"아처\")\n",
    "slime = Slime(name=\"슬라임\")\n",
    "\n",
    "archer.show_status()\n",
    "slime.show_status()\n",
    "\n",
    "archer.rapid_fire(slime)\n"
   ]
  },
  {
   "cell_type": "code",
   "execution_count": 19,
   "metadata": {},
   "outputs": [],
   "source": [
    "# !sudo apt-get install python3-tk"
   ]
  },
  {
   "cell_type": "code",
   "execution_count": 21,
   "metadata": {},
   "outputs": [],
   "source": [
    "import tkinter as tk\n",
    "\n",
    "class BattleApp:\n",
    "    def __init__(self, master):\n",
    "        self.master = master\n",
    "        self.master.title(\"Archer vs Slime Battle\")\n",
    "\n",
    "        # Canvas where the animation will happen\n",
    "        self.canvas = tk.Canvas(self.master, bg=\"white\", width=400, height=300)\n",
    "        self.canvas.pack()\n",
    "\n",
    "        # Archer & Slime Image (represented as rectangles here)\n",
    "        self.archer = self.canvas.create_rectangle(50, 150, 100, 200, fill=\"blue\", tags=\"archer\")\n",
    "        self.slime = self.canvas.create_rectangle(300, 150, 350, 200, fill=\"green\", tags=\"slime\")\n",
    "\n",
    "        # Displaying names\n",
    "        self.canvas.create_text(75, 210, text=\"Archer\")\n",
    "        self.canvas.create_text(325, 210, text=\"Slime\")\n",
    "\n",
    "        # Attack button for Archer\n",
    "        self.attack_btn = tk.Button(self.master, text=\"Archer Attacks\", command=self.attack_animation)\n",
    "        self.attack_btn.pack()\n",
    "\n",
    "        # Attack button for Slime\n",
    "        self.slime_attack_btn = tk.Button(self.master, text=\"Slime Attacks\", command=self.slime_attack_animation)\n",
    "        self.slime_attack_btn.pack()\n",
    "\n",
    "    # Archer's attack animation\n",
    "    def attack_animation(self):\n",
    "        self.canvas.move(self.archer, 20, 0)\n",
    "        self.master.after(200, self.canvas.move, self.archer, -20, 0)\n",
    "        self.master.after(400, self.canvas.move, self.slime, -20, 0)\n",
    "        self.master.after(600, self.canvas.move, self.slime, 20, 0)\n",
    "\n",
    "    # Slime's attack animation\n",
    "    def slime_attack_animation(self):\n",
    "        self.canvas.move(self.slime, -20, 0)\n",
    "        self.master.after(200, self.canvas.move, self.slime, 20, 0)\n",
    "        self.master.after(400, self.canvas.move, self.archer, 20, 0)\n",
    "        self.master.after(600, self.canvas.move, self.archer, -20, 0)\n",
    "\n",
    "if __name__ == \"__main__\":\n",
    "    root = tk.Tk()\n",
    "    app = BattleApp(root)\n",
    "    root.mainloop()\n"
   ]
  },
  {
   "cell_type": "code",
   "execution_count": 22,
   "metadata": {},
   "outputs": [],
   "source": [
    "import tkinter as tk\n",
    "\n",
    "class BattleApp:\n",
    "    def __init__(self, master):\n",
    "        self.master = master\n",
    "        self.master.title(\"Archer vs Slime Battle\")\n",
    "\n",
    "        # Canvas where the animation will happen\n",
    "        self.canvas = tk.Canvas(self.master, bg=\"white\", width=400, height=300)\n",
    "        self.canvas.pack()\n",
    "\n",
    "        # Archer & Slime Image (represented as rectangles here)\n",
    "        self.archer = self.canvas.create_rectangle(50, 150, 100, 200, fill=\"blue\", tags=\"archer\")\n",
    "        self.slime = self.canvas.create_rectangle(300, 150, 350, 200, fill=\"green\", tags=\"slime\")\n",
    "\n",
    "        # Displaying names\n",
    "        self.canvas.create_text(75, 210, text=\"Archer\")\n",
    "        self.canvas.create_text(325, 210, text=\"Slime\")\n",
    "\n",
    "        # Slime's Health Bar\n",
    "        self.slime_hp_max = 100\n",
    "        self.slime_hp_current = self.slime_hp_max\n",
    "        self.slime_hp_bar = self.canvas.create_rectangle(275, 130, 375, 140, fill=\"red\", tags=\"slime_hp\")\n",
    "\n",
    "        # Attack buttons\n",
    "        self.attack_btn = tk.Button(self.master, text=\"Archer Attacks\", command=self.attack_animation)\n",
    "        self.attack_btn.pack()\n",
    "        self.slime_attack_btn = tk.Button(self.master, text=\"Slime Attacks\", command=self.slime_attack_animation)\n",
    "        self.slime_attack_btn.pack()\n",
    "\n",
    "    # Archer's attack animation\n",
    "    def attack_animation(self):\n",
    "        # Reduce slime's health\n",
    "        self.slime_hp_current -= 20\n",
    "        self.update_slime_hp()\n",
    "\n",
    "        # Attack movements\n",
    "        self.canvas.move(self.archer, 20, 0)\n",
    "        self.master.after(200, self.canvas.move, self.archer, -20, 0)\n",
    "        self.master.after(400, self.canvas.move, self.slime, -20, 0)\n",
    "        self.master.after(600, self.canvas.move, self.slime, 20, 0)\n",
    "\n",
    "    # Slime's attack animation\n",
    "    def slime_attack_animation(self):\n",
    "        self.canvas.move(self.slime, -20, 0)\n",
    "        self.master.after(200, self.canvas.move, self.slime, 20, 0)\n",
    "        self.master.after(400, self.canvas.move, self.archer, 20, 0)\n",
    "        self.master.after(600, self.canvas.move, self.archer, -20, 0)\n",
    "\n",
    "    def update_slime_hp(self):\n",
    "        if self.slime_hp_current <= 0:\n",
    "            self.canvas.itemconfig(self.slime, fill=\"gray\")  # Slime dies and turns gray\n",
    "            self.slime_hp_current = 0\n",
    "            self.attack_btn.config(state=tk.DISABLED)  # Disable the attack button\n",
    "\n",
    "        # Update the health bar length\n",
    "        hp_ratio = self.slime_hp_current / self.slime_hp_max\n",
    "        self.canvas.coords(self.slime_hp_bar, 275, 130, 275 + (hp_ratio * 100), 140)\n",
    "\n",
    "if __name__ == \"__main__\":\n",
    "    root = tk.Tk()\n",
    "    app = BattleApp(root)\n",
    "    root.mainloop()\n"
   ]
  },
  {
   "cell_type": "code",
   "execution_count": null,
   "metadata": {},
   "outputs": [],
   "source": []
  }
 ],
 "metadata": {
  "kernelspec": {
   "display_name": "Python 3",
   "language": "python",
   "name": "python3"
  },
  "language_info": {
   "codemirror_mode": {
    "name": "ipython",
    "version": 3
   },
   "file_extension": ".py",
   "mimetype": "text/x-python",
   "name": "python",
   "nbconvert_exporter": "python",
   "pygments_lexer": "ipython3",
   "version": "3.10.12"
  },
  "orig_nbformat": 4
 },
 "nbformat": 4,
 "nbformat_minor": 2
}
