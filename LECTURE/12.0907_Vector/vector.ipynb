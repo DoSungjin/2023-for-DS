{
 "cells": [
  {
   "cell_type": "code",
   "execution_count": null,
   "metadata": {},
   "outputs": [],
   "source": [
    "import math"
   ]
  },
  {
   "cell_type": "markdown",
   "metadata": {},
   "source": [
    "# 벡터란?\n",
    "벡터는 크기와 방향을 모두 가진 수학적 객체입니다. 흔히 화살표로 그려져 크기는 화살표의 길이로, 방향은 화살표의 방향으로 표현됩니다.\n",
    "벡터는 공간에서 한 점에서 다른 점으로의 이동을 표현하기도 합니다.\n",
    "벡터는 일반적으로 괄호나 꺾쇠로 표시되며, 예를 들어 \n",
    "v=[v1,v2]는 2차원 벡터를 나타냅니다."
   ]
  },
  {
   "cell_type": "markdown",
   "metadata": {},
   "source": [
    "## 벡터의 크기와 방향\n",
    "- 크기(Magnitude): 벡터의 길이나 크기를 나타냅니다. \n",
    "- 방향(Direction): 벡터의 지향성을 나타냅니다. 벡터는 그 방향으로 지향하는데, 벡터의 크기와는 무관합니다."
   ]
  },
  {
   "cell_type": "markdown",
   "metadata": {},
   "source": [
    "### 벡터의 기본 연산\n",
    "\n",
    "1. **덧셈**: 두 벡터의 같은 성분끼리 더합니다.\n",
    "   $$\n",
    "   \\begin{align*}\n",
    "   [a_1, a_2] + [b_1, b_2] = [a_1 + b_1, a_2 + b_2]\n",
    "   \\end{align*}\n",
    "   $$\n",
    "\n",
    "2. **뺄셈**: 두 벡터의 같은 성분끼리 뺍니다.\n",
    "   $$\n",
    "   \\begin{align*}\n",
    "   [a_1, a_2] - [b_1, b_2] = [a_1 - b_1, a_2 - b_2]\n",
    "   \\end{align*}\n",
    "   $$\n",
    "\n",
    "3. **스칼라 곱**: 벡터의 각 성분에 스칼라 값을 곱합니다.\n",
    "   $$\n",
    "   \\begin{align*}\n",
    "   c \\times [a_1, a_2] = [c \\times a_1, c \\times a_2]\n",
    "   \\end{align*}\n",
    "   $$\n",
    "\n",
    "4. **내적 (Dot Product)**: 두 벡터의 대응하는 성분들을 곱한 후 그 결과들을 더합니다. 결과는 스칼라 값입니다.\n",
    "   $$\n",
    "   \\begin{align*}\n",
    "   [a_1, a_2] \\cdot [b_1, b_2] = a_1 \\times b_1 + a_2 \\times b_2\n",
    "   \\end{align*}\n",
    "   $$\n",
    "\n",
    "5. **벡터의 크기 (Magnitude)**: 벡터의 각 성분을 제곱한 후 더하고, 그 결과의 제곱근을 구합니다. 이는 벡터의 길이나 크기를 나타냅니다.\n",
    "   $$\n",
    "   \\begin{align*}\n",
    "   ||[a_1, a_2]|| = \\sqrt{a_1^2 + a_2^2}\n",
    "   \\end{align*}\n",
    "   $$\n",
    "\n",
    "6. **단위 벡터 (Unit Vector)**: 크기가 1인 벡터를 말하며, 어떤 벡터를 그 벡터의 크기로 나눠서 얻을 수 있습니다.\n"
   ]
  },
  {
   "cell_type": "code",
   "execution_count": 2,
   "metadata": {},
   "outputs": [
    {
     "name": "stdout",
     "output_type": "stream",
     "text": [
      "1. 벡터의 덧셈: [1, 2] + [2, 3] = [3, 5]\n",
      "2. 벡터의 뺄셈: [1, 2] - [2, 3] = [-1, -1]\n",
      "3. 스칼라와의 곱셈: 3 * [1, 2] = [3, 6]\n",
      "4. 벡터의 내적: [1, 2] · [2, 3] = 8\n",
      "5. 벡터의 크기: ||[1, 2]|| = 2.23606797749979\n"
     ]
    }
   ],
   "source": [
    "# 1. 벡터의 덧셈\n",
    "# 두 벡터 v와 w의 각 성분을 더합니다.\n",
    "def vector_add(v, w):\n",
    "    return [vi + wi for vi, wi in zip(v, w)]\n",
    "\n",
    "v = [1, 2]\n",
    "w = [2, 3]\n",
    "print(f\"1. 벡터의 덧셈: {v} + {w} = {vector_add(v, w)}\")\n",
    "\n",
    "\n",
    "# 2. 벡터의 뺄셈\n",
    "# 두 벡터 v와 w의 각 성분을 뺍니다.\n",
    "def vector_subtract(v, w):\n",
    "    return [vi - wi for vi, wi in zip(v, w)]\n",
    "\n",
    "print(f\"2. 벡터의 뺄셈: {v} - {w} = {vector_subtract(v, w)}\")\n",
    "\n",
    "\n",
    "# 3. 스칼라와의 곱셈\n",
    "# 벡터 v의 모든 성분에 스칼라 c를 곱합니다.\n",
    "def scalar_multiply(c, v):\n",
    "    return [c * vi for vi in v]\n",
    "\n",
    "c = 3\n",
    "print(f\"3. 스칼라와의 곱셈: {c} * {v} = {scalar_multiply(c, v)}\")\n",
    "\n",
    "\n",
    "# 4. 벡터의 내적 (dot product)\n",
    "# 두 벡터의 대응하는 성분들을 곱한 후 그 결과들을 더합니다.\n",
    "def dot(v, w):\n",
    "    return sum(vi * wi for vi, wi in zip(v, w))\n",
    "\n",
    "print(f\"4. 벡터의 내적: {v} · {w} = {dot(v, w)}\")\n",
    "\n",
    "\n",
    "# 5. 벡터의 크기 (magnitude)\n",
    "# 벡터의 각 성분을 제곱한 후 더하고, 그 결과의 제곱근을 구합니다.\n",
    "def magnitude(v):\n",
    "    return math.sqrt(dot(v, v))\n",
    "\n",
    "print(f\"5. 벡터의 크기: ||{v}|| = {magnitude(v)}\")\n"
   ]
  },
  {
   "cell_type": "code",
   "execution_count": 1,
   "metadata": {},
   "outputs": [
    {
     "name": "stdout",
     "output_type": "stream",
     "text": [
      "[1.0, 0.0, 0.0, 5.0]\n",
      "[0.0, 1.0, 0.0, 3.0]\n",
      "[-0.0, -0.0, 1.0, -2.0]\n"
     ]
    }
   ],
   "source": [
    "def swap_rows(A, row1, row2):\n",
    "    \"\"\"두 행의 위치를 바꾸는 함수\"\"\"\n",
    "    A[row1], A[row2] = A[row2], A[row1].copy()\n",
    "\n",
    "def scale_row(A, row, scale):\n",
    "    \"\"\"행에 상수를 곱하는 함수\"\"\"\n",
    "    if scale == 0:\n",
    "        raise ValueError(\"Scale factor cannot be zero\")\n",
    "    A[row] = [entry * scale for entry in A[row]]\n",
    "\n",
    "def add_rows(A, from_row, to_row, scale):\n",
    "    \"\"\"한 행에 다른 행의 상수배 값을 더하는 함수\"\"\"\n",
    "    A[to_row] = [entry + scale*A[from_row][col] for col, entry in enumerate(A[to_row])]\n",
    "\n",
    "def to_rref(A):\n",
    "    \"\"\"행렬을 RREF 형태로 변환하는 함수\"\"\"\n",
    "    num_rows, num_cols = len(A), len(A[0])\n",
    "    current_row = 0\n",
    "\n",
    "    for col in range(num_cols):\n",
    "        # 현재 열에서 0이 아닌 최초의 행을 찾음\n",
    "        nonzero_rows = [r for r in range(current_row, num_rows) if A[r][col] != 0]\n",
    "\n",
    "        if not nonzero_rows:\n",
    "            continue\n",
    "\n",
    "        # 만약 현재 행의 값이 0이라면 위치를 바꿈\n",
    "        if A[current_row][col] == 0:\n",
    "            swap_rows(A, current_row, nonzero_rows[0])\n",
    "\n",
    "        # 현재 행의 값을 1로 만듦\n",
    "        scale_row(A, current_row, 1/A[current_row][col])\n",
    "\n",
    "        # 다른 모든 행에서 현재 열의 값을 0으로 만듦\n",
    "        for row in range(num_rows):\n",
    "            if row == current_row:\n",
    "                continue\n",
    "            if A[row][col] != 0:\n",
    "                add_rows(A, current_row, row, -A[row][col])\n",
    "\n",
    "        current_row += 1\n",
    "        if current_row >= num_rows:\n",
    "            break\n",
    "\n",
    "    return A\n"
   ]
  },
  {
   "cell_type": "code",
   "execution_count": null,
   "metadata": {},
   "outputs": [],
   "source": [
    "# 문제 1 : 다음 행렬을 RREF 형태로 변환하시오.\n",
    "A = [[1, 2, 3, 4],\n",
    "        [2, 4, 6, 8],\n",
    "        [3, 6, 9, 12]]\n",
    "print(f\"문제 1: {to_rref(A)}\")"
   ]
  }
 ],
 "metadata": {
  "kernelspec": {
   "display_name": "Python 3",
   "language": "python",
   "name": "python3"
  },
  "language_info": {
   "codemirror_mode": {
    "name": "ipython",
    "version": 3
   },
   "file_extension": ".py",
   "mimetype": "text/x-python",
   "name": "python",
   "nbconvert_exporter": "python",
   "pygments_lexer": "ipython3",
   "version": "3.10.12"
  },
  "orig_nbformat": 4
 },
 "nbformat": 4,
 "nbformat_minor": 2
}
