{
 "cells": [
  {
   "cell_type": "markdown",
   "metadata": {},
   "source": [
    "## Matrix"
   ]
  },
  {
   "cell_type": "markdown",
   "metadata": {},
   "source": [
    "## 행렬의 기본 개념 및 용어\n",
    "\n",
    "- **행렬(matrix)**: 수나 문자 등을 일정한 모양으로 배열한 것.\n",
    "- **행(row)**: 행렬의 가로 줄. \n",
    "- **열(column)**: 행렬의 세로 줄.\n",
    "- **m x n 행렬**: m개의 행과 n개의 열로 구성된 행렬. m과 n은 자연수입니다.\n",
    "- **정사각 행렬(square matrix)**: 행의 개수와 열의 개수가 같은 행렬.\n",
    "- **대각 행렬(diagonal matrix)**: 주 대각선을 제외한 모든 요소가 0인 정사각 행렬.\n",
    "\n"
   ]
  },
  {
   "cell_type": "code",
   "execution_count": 3,
   "metadata": {},
   "outputs": [
    {
     "name": "stdout",
     "output_type": "stream",
     "text": [
      "행렬 A:\n",
      "[[1 2]\n",
      " [3 4]\n",
      " [5 6]]\n"
     ]
    }
   ],
   "source": [
    "import numpy as np\n",
    "\n",
    "# 행렬 생성\n",
    "A = np.array([[1, 2], [3, 4], [5, 6]])\n",
    "print(\"행렬 A:\")\n",
    "print(A)\n"
   ]
  },
  {
   "cell_type": "code",
   "execution_count": 4,
   "metadata": {},
   "outputs": [
    {
     "name": "stdout",
     "output_type": "stream",
     "text": [
      "행렬 A는 3x2 행렬입니다.\n"
     ]
    }
   ],
   "source": [
    "# 행과 열의 개수\n",
    "m, n = A.shape\n",
    "print(f\"행렬 A는 {m}x{n} 행렬입니다.\")\n"
   ]
  },
  {
   "cell_type": "code",
   "execution_count": 5,
   "metadata": {},
   "outputs": [
    {
     "name": "stdout",
     "output_type": "stream",
     "text": [
      "행렬 A의 첫 번째 행:\n",
      "[1 2]\n"
     ]
    }
   ],
   "source": [
    "# 행 출력\n",
    "print(\"행렬 A의 첫 번째 행:\")\n",
    "print(A[0, :])\n"
   ]
  },
  {
   "cell_type": "code",
   "execution_count": 6,
   "metadata": {},
   "outputs": [
    {
     "name": "stdout",
     "output_type": "stream",
     "text": [
      "행렬 A의 첫 번째 열:\n",
      "[1 3 5]\n"
     ]
    }
   ],
   "source": [
    "# 열 출력\n",
    "print(\"행렬 A의 첫 번째 열:\")\n",
    "print(A[:, 0])"
   ]
  },
  {
   "cell_type": "code",
   "execution_count": 7,
   "metadata": {},
   "outputs": [
    {
     "name": "stdout",
     "output_type": "stream",
     "text": [
      "정사각 행렬 B:\n",
      "[[1 2]\n",
      " [3 4]]\n"
     ]
    }
   ],
   "source": [
    "# 정사각 행렬\n",
    "B = np.array([[1, 2], [3, 4]])\n",
    "print(\"정사각 행렬 B:\")\n",
    "print(B)\n"
   ]
  },
  {
   "cell_type": "code",
   "execution_count": 8,
   "metadata": {},
   "outputs": [
    {
     "name": "stdout",
     "output_type": "stream",
     "text": [
      "대각 행렬 C:\n",
      "[[5 0]\n",
      " [0 3]]\n"
     ]
    }
   ],
   "source": [
    "# 대각 행렬\n",
    "C = np.array([[5, 0], [0, 3]])\n",
    "print(\"대각 행렬 C:\")\n",
    "print(C)\n"
   ]
  },
  {
   "cell_type": "markdown",
   "metadata": {},
   "source": [
    "## 행렬의 덧셈과 뺄셈\n",
    "\n",
    "두 행렬 A와 B의 덧셈 또는 뺄셈을 수행하려면 먼저 두 행렬의 크기가 같아야 합니다.\n",
    "\n",
    "예시:\n",
    "$$\n",
    "A = \\begin{bmatrix}\n",
    "a & b \\\\\n",
    "c & d \\\\\n",
    "\\end{bmatrix}\n",
    "$$\n",
    "\n",
    "$$\n",
    "B = \\begin{bmatrix}\n",
    "e & f \\\\\n",
    "g & h \\\\\n",
    "\\end{bmatrix}\n",
    "$$\n",
    "\n",
    "$$\n",
    "A + B = \\begin{bmatrix}\n",
    "a + e & b + f \\\\\n",
    "c + g & d + h \\\\\n",
    "\\end{bmatrix}\n",
    "$$\n",
    "\n",
    "$$\n",
    "A - B = \\begin{bmatrix}\n",
    "a - e & b - f \\\\\n",
    "c - g & d - h \\\\\n",
    "\\end{bmatrix}\n",
    "$$"
   ]
  },
  {
   "cell_type": "code",
   "execution_count": 9,
   "metadata": {},
   "outputs": [
    {
     "name": "stdout",
     "output_type": "stream",
     "text": [
      "행렬 A:\n",
      "[[1 2]\n",
      " [3 4]]\n",
      "\n",
      "행렬 B:\n",
      "[[4 5]\n",
      " [6 7]]\n",
      "\n"
     ]
    }
   ],
   "source": [
    "# 행렬 A와 B 생성\n",
    "A = np.array([[1, 2], [3, 4]])\n",
    "B = np.array([[4, 5], [6, 7]])\n",
    "print(\"행렬 A:\")\n",
    "print(A)\n",
    "print()\n",
    "print(\"행렬 B:\")\n",
    "print(B)\n",
    "print()\n"
   ]
  },
  {
   "cell_type": "code",
   "execution_count": 11,
   "metadata": {},
   "outputs": [
    {
     "name": "stdout",
     "output_type": "stream",
     "text": [
      "행렬 A와 B의 덧셈 결과:\n",
      "[[ 5  7]\n",
      " [ 9 11]]\n",
      "\n",
      "행렬 A와 B의 뺄셈 결과:\n",
      "[[-3 -3]\n",
      " [-3 -3]]\n"
     ]
    }
   ],
   "source": [
    "# 행렬의 덧셈\n",
    "C = A + B\n",
    "print(\"행렬 A와 B의 덧셈 결과:\")\n",
    "print(C)\n",
    "print()\n",
    "\n",
    "# 행렬의 뺄셈\n",
    "D = A - B\n",
    "print(\"행렬 A와 B의 뺄셈 결과:\")\n",
    "print(D)\n"
   ]
  },
  {
   "cell_type": "code",
   "execution_count": 12,
   "metadata": {},
   "outputs": [
    {
     "name": "stdout",
     "output_type": "stream",
     "text": [
      "행렬 E:\n",
      "[[1 2 3]\n",
      " [4 5 6]]\n",
      "\n",
      "행렬 F:\n",
      "[[ 7  8]\n",
      " [ 9 10]]\n",
      "\n",
      "행렬 E와 F의 덧셈 오류: operands could not be broadcast together with shapes (2,3) (2,2) \n"
     ]
    }
   ],
   "source": [
    "# 크기가 다른 행렬들 생성\n",
    "E = np.array([[1, 2, 3], [4, 5, 6]])\n",
    "F = np.array([[7, 8], [9, 10]])\n",
    "\n",
    "print(\"행렬 E:\")\n",
    "print(E)\n",
    "print()\n",
    "print(\"행렬 F:\")\n",
    "print(F)\n",
    "print()\n",
    "\n",
    "# 크기가 다른 행렬들의 덧셈 시도\n",
    "try:\n",
    "    G = E + F\n",
    "    print(\"행렬 E와 F의 덧셈 결과:\")\n",
    "    print(G)\n",
    "except ValueError as e:\n",
    "    print(f\"행렬 E와 F의 덧셈 오류: {e}\")"
   ]
  },
  {
   "cell_type": "markdown",
   "metadata": {},
   "source": [
    "## 스칼라 연산\n",
    "\n",
    "스칼라(scalar)는 단순한 숫자 값을 의미합니다. 행렬에 스칼라를 곱하는 것은 행렬의 각 요소에 그 스칼라를 곱하는 것과 같습니다.\n",
    "\n",
    "예시:\n",
    "\n",
    "$$\n",
    "k \\times \\begin{bmatrix}\n",
    "a & b \\\\\n",
    "c & d \\\\\n",
    "\\end{bmatrix}\n",
    "= \\begin{bmatrix}\n",
    "ka & kb \\\\\n",
    "kc & kd \\\\\n",
    "\\end{bmatrix}\n",
    "$$"
   ]
  },
  {
   "cell_type": "code",
   "execution_count": 13,
   "metadata": {},
   "outputs": [
    {
     "name": "stdout",
     "output_type": "stream",
     "text": [
      "행렬 A:\n",
      "[[1 2]\n",
      " [3 4]]\n",
      "\n",
      "스칼라 3와 행렬 A의 곱 결과:\n",
      "[[ 3  6]\n",
      " [ 9 12]]\n"
     ]
    }
   ],
   "source": [
    "# 행렬 A 생성\n",
    "A = np.array([[1, 2], [3, 4]])\n",
    "print(\"행렬 A:\")\n",
    "print(A)\n",
    "print()\n",
    "\n",
    "# 스칼라 값 정의\n",
    "k = 3\n",
    "\n",
    "# 스칼라와 행렬의 곱\n",
    "B = k * A\n",
    "print(f\"스칼라 {k}와 행렬 A의 곱 결과:\")\n",
    "print(B)"
   ]
  },
  {
   "cell_type": "markdown",
   "metadata": {},
   "source": [
    "\n",
    "## 선형사상과 행렬의 곱셈\n",
    "\n",
    "- **선형사상(linear transformation)**: 벡터 공간의 벡터를 다른 벡터 공간의 벡터로 대응시키는 함수. 선형사상은 덧셈과 스칼라 곱에 대하여 보존하는 특성을 가집니다.\n",
    "\n",
    "- **행렬의 곱셈**: 두 행렬의 곱셈은 첫 번째 행렬의 행과 두 번째 행렬의 열의 요소들을 순서대로 곱한 후 더하는 방식으로 이루어집니다. 첫 번째 행렬의 열의 수와 두 번째 행렬의 행의 수가 같아야 곱셈이 가능합니다.\n",
    "\n",
    "예시:\n",
    "\n",
    "$$\n",
    "A = \\begin{bmatrix}\n",
    "a & b \\\\\n",
    "c & d \\\\\n",
    "\\end{bmatrix}\n",
    "$$\n",
    "\n",
    "$$\n",
    "B = \\begin{bmatrix}\n",
    "e & f \\\\\n",
    "g & h \\\\\n",
    "\\end{bmatrix}\n",
    "$$\n",
    "\n",
    "$$\n",
    "A \\times B = \\begin{bmatrix}\n",
    "a \\times e + b \\times g & a \\times f + b \\times h \\\\\n",
    "c \\times e + d \\times g & c \\times f + d \\times h \\\\\n",
    "\\end{bmatrix}\n",
    "$$"
   ]
  },
  {
   "cell_type": "code",
   "execution_count": 17,
   "metadata": {},
   "outputs": [
    {
     "name": "stdout",
     "output_type": "stream",
     "text": [
      "선형사상 결과 (3D -> 2D):\n",
      "[ 50 122]\n"
     ]
    }
   ],
   "source": [
    "# 선형사상 예시\n",
    "A = np.array([[1, 2, 3], [4, 5, 6]])  # 2x3 행렬\n",
    "v = np.array([7, 8, 9])               # 3차원 벡터\n",
    "\n",
    "# 선형사상 결과\n",
    "w = np.dot(A, v)\n",
    "print(\"선형사상 결과 (3D -> 2D):\")\n",
    "print(w)"
   ]
  },
  {
   "cell_type": "code",
   "execution_count": 15,
   "metadata": {},
   "outputs": [
    {
     "name": "stdout",
     "output_type": "stream",
     "text": [
      "행렬 B와 C의 곱셈 결과:\n",
      "[[ 9 12 15]\n",
      " [19 26 33]\n",
      " [29 40 51]]\n"
     ]
    }
   ],
   "source": [
    "\n",
    "# 행렬의 곱셈 예시\n",
    "B = np.array([[1, 2], [3, 4], [5, 6]])  # 3x2 행렬\n",
    "C = np.array([[1, 2, 3], [4, 5, 6]])    # 2x3 행렬\n",
    "\n",
    "# 행렬의 곱셈 결과\n",
    "D = np.dot(B, C)\n",
    "print(\"행렬 B와 C의 곱셈 결과:\")\n",
    "print(D)\n"
   ]
  },
  {
   "cell_type": "markdown",
   "metadata": {},
   "source": []
  }
 ],
 "metadata": {
  "kernelspec": {
   "display_name": "Python 3",
   "language": "python",
   "name": "python3"
  },
  "language_info": {
   "codemirror_mode": {
    "name": "ipython",
    "version": 3
   },
   "file_extension": ".py",
   "mimetype": "text/x-python",
   "name": "python",
   "nbconvert_exporter": "python",
   "pygments_lexer": "ipython3",
   "version": "3.10.12"
  },
  "orig_nbformat": 4
 },
 "nbformat": 4,
 "nbformat_minor": 2
}
