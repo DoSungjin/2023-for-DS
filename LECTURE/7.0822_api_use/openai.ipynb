{
 "cells": [
  {
   "cell_type": "code",
   "execution_count": 3,
   "metadata": {},
   "outputs": [],
   "source": [
    "# !pip install openai"
   ]
  },
  {
   "cell_type": "code",
   "execution_count": 4,
   "metadata": {},
   "outputs": [],
   "source": [
    "import openai\n",
    "\n",
    "def main():\n",
    "\n",
    "  openai.api_key = \"your-key\"\n",
    "\n",
    "  response = openai.ChatCompletion.create(\n",
    "    model=\"gpt-3.5-turbo\",\n",
    "    messages=[\n",
    "          {\"role\": \"system\", \"content\": \"You are a helpful assistant.\"},\n",
    "          {\"role\": \"user\", \"content\": \"Who won the world series in 2020?\"},\n",
    "          {\"role\": \"assistant\", \"content\": \"The Los Angeles Dodgers won the World Series in 2020.\"},\n",
    "          {\"role\": \"user\", \"content\": \"Where was it played?\"}\n",
    "      ]\n",
    "  )\n",
    "\n",
    "  output_text = response[\"choices\"][0][\"message\"][\"content\"]\n",
    "  print(output_text)\n"
   ]
  },
  {
   "cell_type": "markdown",
   "metadata": {},
   "source": [
    "- 역할(Role) - 역할은 이번에 공개된 ChatGPT API 에서 공개된 중요한 기능중 하나로서 용도에 따라 시스템(System), 보조자(Assistant), 사용자(User)로 구분 됩니다. \n",
    "\n",
    "- 시스템(System) - 역할은 ChatGPT에게 어떻게 행동을 할지 지정하는 기능이라고 생각하시면됩니다. 위의 예제에서 처럼 xxx를 입력 했다면 ChatGPT에서 상황을 설정할때 주로 사용하는 Act as a ___ 와 유사한 명령을 내릴때 사용됩니다.\n",
    "\n",
    "- 보조자(Assistant) - 역할은 질문을 요청 하기 보다는 이전 대화를 저장하고 연속성을 유지하기 위해 사용되며 이어지는 답변에 영향을 줄수 있습니다. 이전 내용을 바탕으로 프롬프트를 요청 하고자 할때 사용 하실 수 있습니다.\n",
    "\n",
    "- 사용자(User) - 역할은 chatGPT에 일반적으로 질문하는 질문 내용입니다. 사용자의 역할은 보조자(Assistant)와 마찬가지로 이전 대화를 저장하고 연속성을 유지하기 위해 사용되며 이어지는 답변에 영향을 줄수 있습니다.\n",
    "\n",
    "\n",
    "- 공식 -https://platform.openai.com\n"
   ]
  },
  {
   "cell_type": "code",
   "execution_count": null,
   "metadata": {},
   "outputs": [],
   "source": []
  },
  {
   "cell_type": "markdown",
   "metadata": {},
   "source": [
    "- 온도(temperature)값이 높을수록 모델이 생성하는 문장이 더 다양해지고, 값이 낮을수록 더 일관성 있는 문장이 생성 됩니다. 조금더 자세히 말씀 드시면 온도(temperature)값이 높은 경우, 다양한 선택지를 고려하여 텍스트를 생성합니다. 반면에, temperature 값이 낮은 경우, 모델은 가능한 선택지 중에서 가장 확률이 높은 것을 선택하게 됩니다. 그래서 온도 값이 낮을 셩우 일관성 있는 텍스트 결과가 만들어지고 일반적이거나 예상 가능한 결과를 만들 수도 있습니다.\n",
    "\n",
    "- 온도(temperature)값의 범위는 0에서 무한대이지만 일반적으로 0.5 ~ 1.0 사이의 값이을 주로 사용 한다고 합니다. 정보성 글일때는 낮은 온도를 사용하고 창의성이 필요한 경우에는 높은 온도로 설정하여 사용하면 됩니다. 참고로 지정 안했을 때의 기본 값은 0.7입니다.\n",
    "\n",
    "- 텍스트의 최대 길이(max_tokens)는 생성되는 텍스트의 최대 길이를 지정하는 값입니다. 기본값은 256이며 최대값은 2048입니다."
   ]
  },
  {
   "cell_type": "markdown",
   "metadata": {},
   "source": []
  },
  {
   "cell_type": "markdown",
   "metadata": {},
   "source": []
  }
 ],
 "metadata": {
  "kernelspec": {
   "display_name": "Python 3",
   "language": "python",
   "name": "python3"
  },
  "language_info": {
   "codemirror_mode": {
    "name": "ipython",
    "version": 3
   },
   "file_extension": ".py",
   "mimetype": "text/x-python",
   "name": "python",
   "nbconvert_exporter": "python",
   "pygments_lexer": "ipython3",
   "version": "3.10.12"
  },
  "orig_nbformat": 4
 },
 "nbformat": 4,
 "nbformat_minor": 2
}
